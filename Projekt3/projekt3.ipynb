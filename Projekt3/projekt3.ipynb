{
 "cells": [
  {
   "cell_type": "code",
   "execution_count": 4,
   "metadata": {},
   "outputs": [],
   "source": [
    "import segysak \n",
    "import os\n"
   ]
  },
  {
   "cell_type": "code",
   "execution_count": 5,
   "metadata": {},
   "outputs": [],
   "source": [
    "path = r'C:\\Users\\gcich\\OneDrive\\Pulpit\\Magister\\Semestr1\\PraktykaUczeniaMaszynowego\\Projekt3'\n",
    "file_path = os.path.join(path,'TNE01_Full', 'TNE01_Full')"
   ]
  },
  {
   "cell_type": "code",
   "execution_count": 7,
   "metadata": {},
   "outputs": [
    {
     "ename": "AttributeError",
     "evalue": "module 'segysak' has no attribute 'segy'",
     "output_type": "error",
     "traceback": [
      "\u001b[1;31m---------------------------------------------------------------------------\u001b[0m",
      "\u001b[1;31mAttributeError\u001b[0m                            Traceback (most recent call last)",
      "Cell \u001b[1;32mIn[7], line 1\u001b[0m\n\u001b[1;32m----> 1\u001b[0m segy_data \u001b[38;5;241m=\u001b[39m \u001b[43msegysak\u001b[49m\u001b[38;5;241;43m.\u001b[39;49m\u001b[43msegy\u001b[49m\u001b[38;5;241m.\u001b[39msegy_loader(file_path)\n",
      "\u001b[1;31mAttributeError\u001b[0m: module 'segysak' has no attribute 'segy'"
     ]
    }
   ],
   "source": [
    "segy_data = segysak.segy.segy_loader(file_path)\n"
   ]
  }
 ],
 "metadata": {
  "kernelspec": {
   "display_name": "segysak",
   "language": "python",
   "name": "python3"
  },
  "language_info": {
   "codemirror_mode": {
    "name": "ipython",
    "version": 3
   },
   "file_extension": ".py",
   "mimetype": "text/x-python",
   "name": "python",
   "nbconvert_exporter": "python",
   "pygments_lexer": "ipython3",
   "version": "3.8.19"
  }
 },
 "nbformat": 4,
 "nbformat_minor": 2
}
