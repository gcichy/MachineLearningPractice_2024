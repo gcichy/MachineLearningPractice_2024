{
 "cells": [
  {
   "cell_type": "code",
   "execution_count": 2,
   "metadata": {},
   "outputs": [
    {
     "name": "stderr",
     "output_type": "stream",
     "text": [
      "c:\\Users\\gcich\\AppData\\Local\\Programs\\Python\\Python310\\lib\\site-packages\\gymnasium\\envs\\registration.py:513: DeprecationWarning: \u001b[33mWARN: The environment CartPole-v0 is out of date. You should consider upgrading to version `v1`.\u001b[0m\n",
      "  logger.deprecation(\n"
     ]
    }
   ],
   "source": [
    "import gymnasium as gym\n",
    "\n",
    "env = gym.make(\"CartPole-v0\")\n"
   ]
  },
  {
   "cell_type": "code",
   "execution_count": 3,
   "metadata": {},
   "outputs": [
    {
     "data": {
      "text/plain": [
       "Discrete(2)"
      ]
     },
     "execution_count": 3,
     "metadata": {},
     "output_type": "execute_result"
    }
   ],
   "source": [
    "env.action_space"
   ]
  },
  {
   "cell_type": "code",
   "execution_count": 11,
   "metadata": {},
   "outputs": [
    {
     "name": "stdout",
     "output_type": "stream",
     "text": [
      "step 0 [-0.03016865 -0.19963177 -0.00557476  0.29212606] 1.0 False False\n",
      "step 1 [-0.03416128 -0.00443078  0.00026776 -0.00230986] 1.0 False False\n",
      "step 2 [-3.4249898e-02 -1.9955656e-01  2.2156324e-04  2.9045755e-01] 1.0 False False\n",
      "step 3 [-0.03824103 -0.00443777  0.00603071 -0.00215551] 1.0 False False\n",
      "step 4 [-0.03832978  0.19059718  0.0059876  -0.2929296 ] 1.0 False False\n",
      "step 5 [-3.4517843e-02  3.8563323e-01  1.2901216e-04 -5.8371812e-01] 1.0 False False\n",
      "step 6 [-0.02680518  0.19050948 -0.01154535 -0.29099452] 1.0 False False\n",
      "step 7 [-0.02299499 -0.00444596 -0.01736524 -0.00197512] 1.0 False False\n",
      "step 8 [-0.02308391 -0.19931461 -0.01740474  0.28517866] 1.0 False False\n",
      "step 9 [-0.0270702  -0.39418408 -0.01170117  0.57232183] 1.0 False False\n",
      "step 10 [-3.4953881e-02 -5.8914000e-01 -2.5473285e-04  8.6129564e-01] 1.0 False False\n",
      "step 11 [-0.04673668 -0.3940146   0.01697118  0.56853265] 1.0 False False\n",
      "step 12 [-0.05461697 -0.19913474  0.02834183  0.28124428] 1.0 False False\n",
      "step 13 [-0.05859967 -0.00442829  0.03396672 -0.00236674] 1.0 False False\n",
      "step 14 [-0.05868823  0.19019048  0.03391938 -0.2841422 ] 1.0 False False\n",
      "step 15 [-0.05488442 -0.00539842  0.02823654  0.01904278] 1.0 False False\n",
      "step 16 [-0.05499239 -0.2009137   0.0286174   0.3204992 ] 1.0 False False\n",
      "step 17 [-0.05901067 -0.00621073  0.03502738  0.03697672] 1.0 False False\n",
      "step 18 [-0.05913488  0.18839186  0.03576691 -0.24445218] 1.0 False False\n",
      "step 19 [-0.05536704 -0.00722221  0.03087787  0.0592945 ] 1.0 False False\n",
      "step 20 [-0.05551149  0.18744372  0.03206376 -0.22348855] 1.0 False False\n",
      "step 21 [-0.05176261  0.38209307  0.02759399 -0.5058874 ] 1.0 False False\n",
      "step 22 [-0.04412075  0.18659335  0.01747624 -0.20463784] 1.0 False False\n",
      "step 23 [-0.04038888  0.38146108  0.01338349 -0.49175704] 1.0 False False\n",
      "step 24 [-0.03275966  0.5763917   0.00354835 -0.7801922 ] 1.0 False False\n",
      "step 25 [-0.02123183  0.7714647  -0.0120555  -1.0717566 ] 1.0 False False\n",
      "step 26 [-0.00580253  0.96674395 -0.03349063 -1.3681984 ] 1.0 False False\n",
      "step 27 [ 0.01353235  1.1622686  -0.0608546  -1.6711655 ] 1.0 False False\n",
      "step 28 [ 0.03677772  1.3580425  -0.09427791 -1.9821628 ] 1.0 False False\n",
      "step 29 [ 0.06393857  1.5540206  -0.13392116 -2.3025012 ] 1.0 False False\n",
      "step 30 [ 0.09501898  1.7500939  -0.17997119 -2.6332328 ] 1.0 False False\n",
      "step 31 [ 0.13002086  1.55674    -0.23263584 -2.400513  ] 1.0 True False\n",
      "step 32 [ 0.16115566  1.3642877  -0.28064612 -2.1873903 ] 0.0 True False\n",
      "step 33 [ 0.18844141  1.5608304  -0.3243939  -2.5521014 ] 0.0 True False\n",
      "step 34 [ 0.21965802  1.3694385  -0.37543595 -2.3736947 ] 0.0 True False\n",
      "step 35 [ 0.2470468   1.5655082  -0.42290983 -2.755118  ] 0.0 True False\n",
      "step 36 [ 0.27835697  1.3750616  -0.47801217 -2.615278  ] 0.0 True False\n",
      "step 37 [ 0.3058582  1.1856606 -0.5303177 -2.4982655] 0.0 True False\n",
      "step 38 [ 0.3295714   1.3803163  -0.58028305 -2.8988514 ] 0.0 True False\n",
      "step 39 [ 0.35717773  1.5732751  -0.63826007 -3.3020995 ] 0.0 True False\n"
     ]
    }
   ],
   "source": [
    "env.reset()\n",
    "\n",
    "for i in range(40):\n",
    "\n",
    "  # env.action_space.sample() produces either 0 (left) or 1 (right).\n",
    "  temp = env.step(env.action_space.sample())\n",
    "  observation = temp[0]\n",
    "  reward = temp[1]\n",
    "  done= temp[2] \n",
    "  info = temp[3] \n",
    "  \n",
    "  print(\"step\", i, observation, reward, done, info)\n",
    "\n",
    "env.close()"
   ]
  },
  {
   "cell_type": "code",
   "execution_count": 7,
   "metadata": {},
   "outputs": [
    {
     "data": {
      "text/plain": [
       "(array([-0.01911452,  0.02457383, -0.00072097,  0.02783897], dtype=float32),\n",
       " 1.0,\n",
       " False,\n",
       " False,\n",
       " {})"
      ]
     },
     "execution_count": 7,
     "metadata": {},
     "output_type": "execute_result"
    }
   ],
   "source": [
    "env.step(env.action_space.sample())"
   ]
  }
 ],
 "metadata": {
  "kernelspec": {
   "display_name": "Python 3",
   "language": "python",
   "name": "python3"
  },
  "language_info": {
   "codemirror_mode": {
    "name": "ipython",
    "version": 3
   },
   "file_extension": ".py",
   "mimetype": "text/x-python",
   "name": "python",
   "nbconvert_exporter": "python",
   "pygments_lexer": "ipython3",
   "version": "3.10.7"
  }
 },
 "nbformat": 4,
 "nbformat_minor": 2
}
